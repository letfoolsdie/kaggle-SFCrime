{
 "cells": [
  {
   "cell_type": "markdown",
   "metadata": {
    "collapsed": true
   },
   "source": [
    "# Соревнование: San Francisco Crime Classification\n",
    "*Given time and location, you must predict the category of crime that occurred. Kaggle is hosting this competition for the machine learning community to use for fun and practice.*\n",
    "\n",
    "https://www.kaggle.com/c/sf-crime"
   ]
  },
  {
   "cell_type": "markdown",
   "metadata": {},
   "source": [
    "Этот ноутбук структурирован таким образом, чтобы облегчить совместную работу над соревнованием. За некоторыми исключениями, каждый участник работает только в разделе 4. При этом ни одна из строк кода любого из разделов не является постоянной, если в ней нет необходимости, ее стоит исключить, если один из участников написал полезный код, который может пригодится остальным, то этот когда имеет смысл перенести из персонального раздела в общие. Ноутбук имеет следующую структуру:\n",
    "1. Подготовка работы. Загрузка библиотек и настройка отображения\n",
    "+ Загрузка и очистка данных\n",
    "+ Общие функции\n",
    "+ Персональный раздел\n",
    "+ Модель на тестовой выборке "
   ]
  },
  {
   "cell_type": "markdown",
   "metadata": {},
   "source": [
    "### 1. Подготовка работы. Загрузка библиотек и настройка отображения\n",
    "Импорты и настроийки, которые необходимы для шаблона."
   ]
  },
  {
   "cell_type": "code",
   "execution_count": 52,
   "metadata": {
    "collapsed": true
   },
   "outputs": [],
   "source": [
    "import pandas as pd\n",
    "import numpy as np\n",
    "import matplotlib.pyplot as plt\n",
    "from sklearn.cross_validation import KFold\n",
    "from sklearn.cross_validation import cross_val_score\n",
    "import time\n",
    "import datetime\n",
    "import csv\n",
    "\n",
    "%matplotlib inline"
   ]
  },
  {
   "cell_type": "markdown",
   "metadata": {},
   "source": [
    "### 2. Загрузка, очистка данных. Общие константы\n",
    "Обучающая и тренировочная выборки надоходятся в папке `data`. "
   ]
  },
  {
   "cell_type": "code",
   "execution_count": 53,
   "metadata": {
    "collapsed": false
   },
   "outputs": [],
   "source": [
    "train = pd.read_csv('./data/train.csv')"
   ]
  },
  {
   "cell_type": "code",
   "execution_count": null,
   "metadata": {
    "collapsed": false
   },
   "outputs": [],
   "source": []
  },
  {
   "cell_type": "markdown",
   "metadata": {},
   "source": [
    "#### 2.1. Очистка данных\n",
    "В то время, как в `train` находятся сырые данные, `X_train` содержит те же колонки, что и `test`, поэтому многие преобразования над обеими переменными могут выполняться одной функцией."
   ]
  },
  {
   "cell_type": "code",
   "execution_count": 54,
   "metadata": {
    "collapsed": false
   },
   "outputs": [],
   "source": [
    "# необходимо принять волевое решение, что делать с данными у которых левые координаты?\n",
    "# пока их исключаем\n",
    "train = train[train.Y < 40]\n",
    "# эти колонки содержаться в тестовой выбоке\n",
    "test_features = pd.read_csv('./data/test.csv', nrows=1, index_col='Id').columns.tolist()\n",
    "# теперь X_train с правильными колонками\n",
    "X_train = train[test_features]\n",
    "# целевая переменная, не путать с координатой\n",
    "y = train.Category\n",
    "# список происшествий, колонки для файла с результатами \n",
    "out_features = pd.read_csv('./data/sampleSubmission.csv', nrows=1, index_col='Id').columns.tolist()\n",
    "# количество классов происшествий\n",
    "classes = len(out_features)"
   ]
  },
  {
   "cell_type": "code",
   "execution_count": null,
   "metadata": {
    "collapsed": false
   },
   "outputs": [],
   "source": []
  },
  {
   "cell_type": "markdown",
   "metadata": {},
   "source": [
    "#### 2.2. Общие константы\n",
    "Константы, которые используются для обработки данных."
   ]
  },
  {
   "cell_type": "code",
   "execution_count": 55,
   "metadata": {
    "collapsed": false
   },
   "outputs": [],
   "source": [
    "# данные\n",
    "train_rows = X_train.shape[0]\n",
    "train_features = train.columns.tolist()\n",
    "test_features = pd.read_csv('./data/test.csv', nrows=1, index_col='Id').columns.tolist()\n",
    "\n",
    "# другие\n",
    "random_state = 19"
   ]
  },
  {
   "cell_type": "code",
   "execution_count": null,
   "metadata": {
    "collapsed": false
   },
   "outputs": [],
   "source": []
  },
  {
   "cell_type": "markdown",
   "metadata": {},
   "source": [
    "### 3. Общие функции\n",
    "Это функции для операций с данными.\n",
    "Сюда надо написать функции для записи моделей и их параметров в файл (хранить в json?), и пр."
   ]
  },
  {
   "cell_type": "code",
   "execution_count": 56,
   "metadata": {
    "collapsed": false
   },
   "outputs": [],
   "source": [
    "# добавление колонок к выборке\n",
    "# хорошо бы сделать, чтоб работало для разных типов\n",
    "def add_features_to_X(X, X_add):\n",
    "    assert X.shape[0] == X_add.shape[0]\n",
    "    return pd.concat([X, X_add], axis=1, join_axes=[X.index])\n",
    "\n",
    "# расп-сить колонку y.Category в матрицу с колонками out_features\n",
    "def convert_y_to_matrix(Category):\n",
    "    pass\n",
    "\n",
    "# запись результатов в файл\n",
    "# имена колонок содержатся в out_features\n",
    "def write_results(filename, results):\n",
    "    pass    #\n"
   ]
  },
  {
   "cell_type": "code",
   "execution_count": null,
   "metadata": {
    "collapsed": false
   },
   "outputs": [],
   "source": []
  },
  {
   "cell_type": "markdown",
   "metadata": {},
   "source": [
    "### 4. Персональный раздел. \n",
    "Место для творчества. В этом пункте можно творить что угодно! \n",
    "\n",
    "Возможно, стоит указывать свой `id` для наиболее полезных функций и т.п.\n",
    "\n",
    "В конце раздела передаем свой классификатор в переменную `clf`"
   ]
  },
  {
   "cell_type": "markdown",
   "metadata": {},
   "source": [
    "#### 4.1. Мои импорты"
   ]
  },
  {
   "cell_type": "code",
   "execution_count": 57,
   "metadata": {
    "collapsed": true
   },
   "outputs": [],
   "source": [
    "from sklearn.ensemble import GradientBoostingClassifier\n",
    "from sklearn.preprocessing import LabelEncoder"
   ]
  },
  {
   "cell_type": "markdown",
   "metadata": {},
   "source": [
    "#### 4.2. Мои константы"
   ]
  },
  {
   "cell_type": "code",
   "execution_count": 58,
   "metadata": {
    "collapsed": true
   },
   "outputs": [],
   "source": [
    "# то, чем пользуюcь только я\n",
    "random_state = 42\n",
    "n_jobs = 4\n",
    "learning_rate = 0.1"
   ]
  },
  {
   "cell_type": "markdown",
   "metadata": {},
   "source": [
    "#### 4.3. Мои функции"
   ]
  },
  {
   "cell_type": "code",
   "execution_count": 59,
   "metadata": {
    "collapsed": true
   },
   "outputs": [],
   "source": [
    "def encode_data(train, test):\n",
    "    le = LabelEncoder()\n",
    "    \n",
    "    train['DayOfWeek'] = le.fit_transform(train.DayOfWeek)\n",
    "    test['DayOfWeek'] = le.transform(test.DayOfWeek)\n",
    "    \n",
    "    train['PdDistrict'] = le.fit_transform(train.PdDistrict)\n",
    "    test['PdDistrict'] = le.transform(test.PdDistrict)\n",
    "    \n",
    "    #Заменяем адреса отсутствующие в тестовой выборке на самое частое значение в обучающей: (исправить и заменить на ближайший адрес по координатам?)\n",
    "    test.loc[~test.Address.isin(np.unique(train.Address)),['Address']] = '800 Block of BRYANT ST'\n",
    "    train['Address'] = le.fit_transform(train.Address)\n",
    "    test['Address'] = le.transform(test.Address)\n",
    "\n",
    "    return train, test\n",
    "\n",
    "def get_dates(X):\n",
    "    X['Dates'] = pd.to_datetime(X.Dates, yearfirst=True)\n",
    "    X['Year'] = X.Dates.dt.year\n",
    "    X['Month'] = X.Dates.dt.month\n",
    "    X['Hour'] = X.Dates.dt.hour\n",
    "    return X\n"
   ]
  },
  {
   "cell_type": "code",
   "execution_count": null,
   "metadata": {
    "collapsed": true
   },
   "outputs": [],
   "source": []
  },
  {
   "cell_type": "markdown",
   "metadata": {},
   "source": [
    "#### 4.4. Моя модель\n",
    "Моя крутая модель, ее запредельные метрики и наглядные графики."
   ]
  },
  {
   "cell_type": "code",
   "execution_count": 60,
   "metadata": {
    "collapsed": false
   },
   "outputs": [],
   "source": [
    "#Загрузим и сразу преобразуем тестовую выборку для правильного кодирования данных:\n",
    "test = pd.read_csv('./data/test.csv')\n",
    "\n",
    "X, X_test = encode_data(X_train.copy(), test.copy())\n",
    "X, X_test = get_dates(X.copy()), get_dates(X_test.copy())\n",
    "# настройка кросс-валидации\n",
    "cv = KFold(n=train_rows, n_folds=5, shuffle=True, random_state=random_state)\n",
    "\n",
    "# мой классификатор\n",
    "clf = GradientBoostingClassifier(n_estimators=20, random_state=random_state)"
   ]
  },
  {
   "cell_type": "code",
   "execution_count": null,
   "metadata": {
    "collapsed": false
   },
   "outputs": [],
   "source": []
  },
  {
   "cell_type": "code",
   "execution_count": 44,
   "metadata": {
    "collapsed": false
   },
   "outputs": [
    {
     "name": "stdout",
     "output_type": "stream",
     "text": [
      "Time elapsed: 5253.39222\n",
      "average score (5 folds): -2.52753946897\n"
     ]
    }
   ],
   "source": [
    "# обучение моего классификаторв и проверка качества\n",
    "features = ['DayOfWeek', 'PdDistrict','X','Y','Address', 'Year', 'Month', 'Hour']\n",
    "\n",
    "start_time = datetime.datetime.now()\n",
    "logloss = cross_val_score(clf, X[features], y, cv=cv, scoring='log_loss').mean()\n",
    "duration = (datetime.datetime.now() - start_time).total_seconds()\n",
    "\n",
    "print('Time elapsed:', duration)\n",
    "print('average score (5 folds): %s' % logloss)"
   ]
  },
  {
   "cell_type": "code",
   "execution_count": 61,
   "metadata": {
    "collapsed": false
   },
   "outputs": [
    {
     "data": {
      "text/plain": [
       "GradientBoostingClassifier(init=None, learning_rate=0.1, loss='deviance',\n",
       "              max_depth=3, max_features=None, max_leaf_nodes=None,\n",
       "              min_samples_leaf=1, min_samples_split=2,\n",
       "              min_weight_fraction_leaf=0.0, n_estimators=20,\n",
       "              presort='auto', random_state=42, subsample=1.0, verbose=0,\n",
       "              warm_start=False)"
      ]
     },
     "execution_count": 61,
     "metadata": {},
     "output_type": "execute_result"
    }
   ],
   "source": [
    "clf.fit(X[features], y)"
   ]
  },
  {
   "cell_type": "markdown",
   "metadata": {},
   "source": [
    "### 5. Тестирование\n",
    "О том, что надо скормить своему классификатору тестовую выборку."
   ]
  },
  {
   "cell_type": "code",
   "execution_count": null,
   "metadata": {
    "collapsed": false
   },
   "outputs": [],
   "source": []
  },
  {
   "cell_type": "markdown",
   "metadata": {},
   "source": [
    "#### 5.1. Загрузка и константы тестовой выборки"
   ]
  },
  {
   "cell_type": "code",
   "execution_count": null,
   "metadata": {
    "collapsed": true
   },
   "outputs": [],
   "source": []
  },
  {
   "cell_type": "markdown",
   "metadata": {},
   "source": [
    "#### 5.2. Обработка тестовой выборки"
   ]
  },
  {
   "cell_type": "code",
   "execution_count": null,
   "metadata": {
    "collapsed": true
   },
   "outputs": [],
   "source": []
  },
  {
   "cell_type": "markdown",
   "metadata": {},
   "source": [
    "#### 5.3. Предсказания классификатора\n",
    "Пропускаем тестовую выборку через свой классификатор и записываем результаты в файл. "
   ]
  },
  {
   "cell_type": "code",
   "execution_count": 62,
   "metadata": {
    "collapsed": false
   },
   "outputs": [],
   "source": [
    "pred = clf.predict_proba(X_test[features])"
   ]
  },
  {
   "cell_type": "code",
   "execution_count": 63,
   "metadata": {
    "collapsed": true
   },
   "outputs": [],
   "source": [
    "pred = np.round(pred, decimals=7)\n",
    "submit = pd.DataFrame(pred, columns=clf.classes_)\n",
    "submit['Id'] = test.Id"
   ]
  },
  {
   "cell_type": "code",
   "execution_count": 64,
   "metadata": {
    "collapsed": true
   },
   "outputs": [],
   "source": [
    "submit.to_csv('gb20new.csv',index=False)"
   ]
  },
  {
   "cell_type": "code",
   "execution_count": null,
   "metadata": {
    "collapsed": true
   },
   "outputs": [],
   "source": []
  }
 ],
 "metadata": {
  "kernelspec": {
   "display_name": "Python 3",
   "language": "python",
   "name": "python3"
  },
  "language_info": {
   "codemirror_mode": {
    "name": "ipython",
    "version": 3
   },
   "file_extension": ".py",
   "mimetype": "text/x-python",
   "name": "python",
   "nbconvert_exporter": "python",
   "pygments_lexer": "ipython3",
   "version": "3.5.1"
  }
 },
 "nbformat": 4,
 "nbformat_minor": 0
}
