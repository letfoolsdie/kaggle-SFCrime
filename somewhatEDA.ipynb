{
 "cells": [
  {
   "cell_type": "code",
   "execution_count": 1,
   "metadata": {
    "collapsed": false
   },
   "outputs": [],
   "source": [
    "import pandas as pd\n",
    "import numpy as np\n",
    "import matplotlib.pyplot as plt\n",
    "from sklearn.ensemble import RandomForestClassifier\n",
    "from sklearn.preprocessing import LabelEncoder\n",
    "%matplotlib inline\n",
    "plt.style.use('ggplot')"
   ]
  },
  {
   "cell_type": "code",
   "execution_count": 2,
   "metadata": {
    "collapsed": true
   },
   "outputs": [],
   "source": [
    "df = pd.read_csv('train.csv')"
   ]
  },
  {
   "cell_type": "markdown",
   "metadata": {},
   "source": [
    "At a glance:"
   ]
  },
  {
   "cell_type": "code",
   "execution_count": 3,
   "metadata": {
    "collapsed": false,
    "scrolled": true
   },
   "outputs": [
    {
     "name": "stdout",
     "output_type": "stream",
     "text": [
      "<class 'pandas.core.frame.DataFrame'>\n",
      "Int64Index: 878049 entries, 0 to 878048\n",
      "Data columns (total 9 columns):\n",
      "Dates         878049 non-null object\n",
      "Category      878049 non-null object\n",
      "Descript      878049 non-null object\n",
      "DayOfWeek     878049 non-null object\n",
      "PdDistrict    878049 non-null object\n",
      "Resolution    878049 non-null object\n",
      "Address       878049 non-null object\n",
      "X             878049 non-null float64\n",
      "Y             878049 non-null float64\n",
      "dtypes: float64(2), object(7)\n",
      "memory usage: 67.0+ MB\n"
     ]
    }
   ],
   "source": [
    "df.info()"
   ]
  },
  {
   "cell_type": "markdown",
   "metadata": {},
   "source": [
    "Виды преступлений:"
   ]
  },
  {
   "cell_type": "code",
   "execution_count": 10,
   "metadata": {
    "collapsed": false
   },
   "outputs": [
    {
     "data": {
      "text/plain": [
       "Friday       133734\n",
       "Wednesday    129211\n",
       "Saturday     126810\n",
       "Thursday     125038\n",
       "Tuesday      124965\n",
       "Monday       121584\n",
       "Sunday       116707\n",
       "Name: DayOfWeek, dtype: int64"
      ]
     },
     "execution_count": 10,
     "metadata": {},
     "output_type": "execute_result"
    }
   ],
   "source": [
    "df.DayOfWeek.value_counts()"
   ]
  },
  {
   "cell_type": "markdown",
   "metadata": {},
   "source": [
    "Посмотрим, что это за такие многочисленные и непонятные **OTHER OFFENSES** и **NON-CRIMINAL**:"
   ]
  },
  {
   "cell_type": "code",
   "execution_count": 12,
   "metadata": {
    "collapsed": false
   },
   "outputs": [
    {
     "data": {
      "text/plain": [
       "DRIVERS LICENSE, SUSPENDED OR REVOKED             3731\n",
       "TRAFFIC VIOLATION                                 2298\n",
       "RESISTING ARREST                                  1207\n",
       "PROBATION VIOLATION                               1143\n",
       "MISCELLANEOUS INVESTIGATION                       1126\n",
       "LOST/STOLEN LICENSE PLATE                          965\n",
       "VIOLATION OF RESTRAINING ORDER                     867\n",
       "TRAFFIC VIOLATION ARREST                           729\n",
       "PAROLE VIOLATION                                   682\n",
       "CONSPIRACY                                         498\n",
       "OBSCENE PHONE CALLS(S)                             387\n",
       "FALSE PERSONATION TO RECEIVE MONEY OR PROPERTY     359\n",
       "HARASSING PHONE CALLS                              326\n",
       "POSSESSION OF BURGLARY TOOLS                       298\n",
       "VIOLATION OF MUNICIPAL CODE                        261\n",
       "Name: Descript, dtype: int64"
      ]
     },
     "execution_count": 12,
     "metadata": {},
     "output_type": "execute_result"
    }
   ],
   "source": [
    "#По большей части нарушения связанные с вождением:\n",
    "df[(df.Category=='OTHER OFFENSES')&(df.DayOfWeek=='Monday')].Descript.value_counts()[:15]"
   ]
  },
  {
   "cell_type": "code",
   "execution_count": 94,
   "metadata": {
    "collapsed": false
   },
   "outputs": [
    {
     "data": {
      "text/plain": [
       "LOST PROPERTY                               31729\n",
       "AIDED CASE, MENTAL DISTURBED                21497\n",
       "FOUND PROPERTY                              12146\n",
       "AIDED CASE                                   5419\n",
       "DEATH REPORT, CAUSE UNKNOWN                  4207\n",
       "CASE CLOSURE                                 2259\n",
       "STAY AWAY OR COURT ORDER, NON-DV RELATED     1653\n",
       "AIDED CASE, DOG BITE                         1336\n",
       "CIVIL SIDEWALKS, CITATION                    1217\n",
       "PROPERTY FOR IDENTIFICATION                  1200\n",
       "AIDED CASE, INJURED PERSON                   1060\n",
       "DEATH REPORT, NATURAL CAUSES                 1011\n",
       "CIVIL SIDEWALKS, WARNING                      928\n",
       "COURTESY REPORT                               874\n",
       "FIRE REPORT                                   795\n",
       "Name: Descript, dtype: int64"
      ]
     },
     "execution_count": 94,
     "metadata": {},
     "output_type": "execute_result"
    }
   ],
   "source": [
    "#В основном потерянная/найденная собственность + неадекватные люди(? лол)\n",
    "df[df.Category=='NON-CRIMINAL'].Descript.value_counts()[:15]"
   ]
  },
  {
   "cell_type": "markdown",
   "metadata": {},
   "source": [
    "Посмотрим на распределение 3-х самых частых видов преступлений по районам и дням недели:"
   ]
  },
  {
   "cell_type": "code",
   "execution_count": 122,
   "metadata": {
    "collapsed": false
   },
   "outputs": [
    {
     "data": {
      "text/plain": [
       "<matplotlib.axes._subplots.AxesSubplot at 0x6614e80>"
      ]
     },
     "execution_count": 122,
     "metadata": {},
     "output_type": "execute_result"
    },
    {
     "data": {
      "image/png": "[encoded data removed]",
      "text/plain": [
       "<matplotlib.figure.Figure at 0xdbb78f60>"
      ]
     },
     "metadata": {},
     "output_type": "display_data"
    }
   ],
   "source": [
    "df[df.Category=='LARCENY/THEFT'].PdDistrict.value_counts().plot(kind='bar')\n",
    "df[df.Category=='OTHER OFFENSES'].PdDistrict.value_counts().plot(kind='bar',color='red')\n",
    "df[df.Category=='NON-CRIMINAL'].PdDistrict.value_counts().plot(kind='bar',color='green')\n",
    "#Сорян, задолбался пытаться построить так, чтобы столбики были рядом :("
   ]
  },
  {
   "cell_type": "markdown",
   "metadata": {},
   "source": [
    "Сделаем то же для дней недели:"
   ]
  },
  {
   "cell_type": "code",
   "execution_count": 123,
   "metadata": {
    "collapsed": false
   },
   "outputs": [
    {
     "data": {
      "text/plain": [
       "<matplotlib.axes._subplots.AxesSubplot at 0xdc8f53c8>"
      ]
     },
     "execution_count": 123,
     "metadata": {},
     "output_type": "execute_result"
    },
    {
     "data": {
      "image/png": "[encoded data removed]",
      "text/plain": [
       "<matplotlib.figure.Figure at 0xd9bc2240>"
      ]
     },
     "metadata": {},
     "output_type": "display_data"
    }
   ],
   "source": [
    "df[df.Category=='LARCENY/THEFT'].DayOfWeek.value_counts().plot(kind='bar')\n",
    "df[df.Category=='OTHER OFFENSES'].DayOfWeek.value_counts().plot(kind='bar',color='red')\n",
    "df[df.Category=='NON-CRIMINAL'].DayOfWeek.value_counts().plot(kind='bar',color='green')"
   ]
  },
  {
   "cell_type": "markdown",
   "metadata": {},
   "source": [
    "Mildly Interesting: не ходите, дети, на *800 Block of BRYANT ST* гулять:"
   ]
  },
  {
   "cell_type": "code",
   "execution_count": 124,
   "metadata": {
    "collapsed": false
   },
   "outputs": [
    {
     "data": {
      "text/plain": [
       "800 Block of BRYANT ST      26533\n",
       "800 Block of MARKET ST       6581\n",
       "2000 Block of MISSION ST     5097\n",
       "1000 Block of POTRERO AV     4063\n",
       "900 Block of MARKET ST       3251\n",
       "0 Block of TURK ST           3228\n",
       "0 Block of 6TH ST            2884\n",
       "300 Block of ELLIS ST        2703\n",
       "400 Block of ELLIS ST        2590\n",
       "16TH ST / MISSION ST         2504\n",
       "Name: Address, dtype: int64"
      ]
     },
     "execution_count": 124,
     "metadata": {},
     "output_type": "execute_result"
    }
   ],
   "source": [
    "df.Address.value_counts()[:10]"
   ]
  },
  {
   "cell_type": "markdown",
   "metadata": {},
   "source": [
    "Повеселились и хватит.\n",
    "Посмотрим теперь, насколько важны каждая из базовых фич, для чего используем возможности RandomForest.\n",
    "Но перед этим поле даты разобьем на год, месяц и час + закодируем данные цифрами (иначе RandomForest не заработает):"
   ]
  },
  {
   "cell_type": "code",
   "execution_count": 137,
   "metadata": {
    "collapsed": true
   },
   "outputs": [],
   "source": [
    "le = LabelEncoder()\n",
    "df['DayOfWeek'] = le.fit_transform(df.DayOfWeek)\n",
    "df['PdDistrict'] = le.fit_transform(df.PdDistrict)\n",
    "df['Address'] = le.fit_transform(df.Address)\n",
    "\n",
    "df['Dates'] = pd.to_datetime(df.Dates, yearfirst=True)\n",
    "df['Year'] = df.Dates.dt.year\n",
    "df['Month'] = df.Dates.dt.month\n",
    "df['Hour'] = df.Dates.dt.hour"
   ]
  },
  {
   "cell_type": "markdown",
   "metadata": {},
   "source": [
    "Ок, время RF:"
   ]
  },
  {
   "cell_type": "code",
   "execution_count": 144,
   "metadata": {
    "collapsed": false
   },
   "outputs": [
    {
     "data": {
      "text/plain": [
       "RandomForestClassifier(bootstrap=True, class_weight=None, criterion='gini',\n",
       "            max_depth=None, max_features='auto', max_leaf_nodes=None,\n",
       "            min_samples_leaf=1, min_samples_split=2,\n",
       "            min_weight_fraction_leaf=0.0, n_estimators=20, n_jobs=1,\n",
       "            oob_score=False, random_state=42, verbose=0, warm_start=False)"
      ]
     },
     "execution_count": 144,
     "metadata": {},
     "output_type": "execute_result"
    }
   ],
   "source": [
    "features = ['DayOfWeek', 'PdDistrict','X','Y','Address', 'Year', 'Month', 'Hour']\n",
    "clf = RandomForestClassifier(n_estimators=10,random_state=42) \n",
    "#спойлер: на большем числе деревьев можно опухнуть считать, а важности фич отличаются незначительно\n",
    "clf.fit(df[features], df.Category)\n"
   ]
  },
  {
   "cell_type": "code",
   "execution_count": 143,
   "metadata": {
    "collapsed": false
   },
   "outputs": [
    {
     "data": {
      "text/plain": [
       "[('DayOfWeek', 0.111478005770376),\n",
       " ('PdDistrict', 0.017239667013852881),\n",
       " ('X', 0.14891031143423883),\n",
       " ('Y', 0.15404873975333627),\n",
       " ('Address', 0.14053521924782411),\n",
       " ('Year', 0.10994748884512824),\n",
       " ('Month', 0.16288060110506705),\n",
       " ('Hour', 0.15495996683017663)]"
      ]
     },
     "execution_count": 143,
     "metadata": {},
     "output_type": "execute_result"
    }
   ],
   "source": [
    "zip(features,clf.feature_importances_)"
   ]
  },
  {
   "cell_type": "markdown",
   "metadata": {},
   "source": [
    "К размышлению: PdDistrict совсем ничтожное влияние оказывает, хотя на графиках выше видно, что частота разных типов преступлений меняется в зависимости от района. WHYYY? Потому что это учитывается в X и Y? Если так, то почему у Address все еще значительный вес?\n",
    "\n",
    "Ну и т.к. у месяца оказался самый большой вес, посмотрим для 3 самых частых типов преступлений распределение по месяцам:"
   ]
  },
  {
   "cell_type": "code",
   "execution_count": 146,
   "metadata": {
    "collapsed": false
   },
   "outputs": [
    {
     "data": {
      "text/plain": [
       "<matplotlib.axes._subplots.AxesSubplot at 0xd7cd04a8>"
      ]
     },
     "execution_count": 146,
     "metadata": {},
     "output_type": "execute_result"
    },
    {
     "data": {
      "image/png": "[encoded data removed]",
      "text/plain": [
       "<matplotlib.figure.Figure at 0xdba100b8>"
      ]
     },
     "metadata": {},
     "output_type": "display_data"
    }
   ],
   "source": [
    "df[df.Category=='LARCENY/THEFT'].Month.value_counts().plot(kind='bar')\n",
    "df[df.Category=='OTHER OFFENSES'].Month.value_counts().plot(kind='bar',color='red')\n",
    "df[df.Category=='NON-CRIMINAL'].Month.value_counts().plot(kind='bar',color='green')"
   ]
  },
  {
   "cell_type": "markdown",
   "metadata": {},
   "source": [
    "Mildly Interesting: 3 из 4 топовых месяца - это март, апрель, май - \"весеннее обострение\" confirmed :)\n",
    "Ну и сделаем то же для Hour, напоследок:"
   ]
  },
  {
   "cell_type": "code",
   "execution_count": 147,
   "metadata": {
    "collapsed": false
   },
   "outputs": [
    {
     "data": {
      "text/plain": [
       "<matplotlib.axes._subplots.AxesSubplot at 0x488682b0>"
      ]
     },
     "execution_count": 147,
     "metadata": {},
     "output_type": "execute_result"
    },
    {
     "data": {
      "image/png": "[encoded data removed]",
      "text/plain": [
       "<matplotlib.figure.Figure at 0xdb84b6d8>"
      ]
     },
     "metadata": {},
     "output_type": "display_data"
    }
   ],
   "source": [
    "df[df.Category=='LARCENY/THEFT'].Hour.value_counts().plot(kind='bar')\n",
    "df[df.Category=='OTHER OFFENSES'].Hour.value_counts().plot(kind='bar',color='red')\n",
    "df[df.Category=='NON-CRIMINAL'].Hour.value_counts().plot(kind='bar',color='green')"
   ]
  }
 ],
 "metadata": {
  "kernelspec": {
   "display_name": "Python 2",
   "language": "python",
   "name": "python2"
  },
  "language_info": {
   "codemirror_mode": {
    "name": "ipython",
    "version": 2
   },
   "file_extension": ".py",
   "mimetype": "text/x-python",
   "name": "python",
   "nbconvert_exporter": "python",
   "pygments_lexer": "ipython2",
   "version": "2.7.11"
  }
 },
 "nbformat": 4,
 "nbformat_minor": 0
}
